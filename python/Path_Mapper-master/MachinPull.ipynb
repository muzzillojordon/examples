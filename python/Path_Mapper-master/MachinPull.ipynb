{
 "cells": [
  {
   "cell_type": "code",
   "execution_count": null,
   "id": "362472df",
   "metadata": {},
   "outputs": [],
   "source": [
    "# %pip install openpyxl\n",
    "# %pip install XlsxWriter"
   ]
  },
  {
   "cell_type": "code",
   "execution_count": 6,
   "id": "d9d2c4fb",
   "metadata": {},
   "outputs": [],
   "source": [
    "# importing seeq library\n",
    "from seeq import spy\n",
    "\n",
    "# importing pandas library\n",
    "import pandas as pd\n",
    "\n",
    "import numpy as np\n",
    "\n",
    "from IPython.display import HTML, Image, Javascript, Markdown as md\n",
    "\n",
    "pd.set_option(\"display.max_rows\", None, # display all rows\n",
    "              \"display.max_columns\", None, # display all columns\n",
    "              \"display.max_colwidth\", None, # expand column width\n",
    "              \"display.html.use_mathjax\", False) # disable Latex style mathjax rendering"
   ]
  },
  {
   "cell_type": "code",
   "execution_count": 30,
   "id": "aac0fd8f",
   "metadata": {},
   "outputs": [],
   "source": [
    "pd.set_option(\"display.max_rows\", None, # display all rows\n",
    "              \"display.max_columns\", None, # display all columns\n",
    "              \"display.max_colwidth\", None, # expand column width\n",
    "              \"display.html.use_mathjax\", False) # disable Latex style mathjax rendering"
   ]
  },
  {
   "cell_type": "code",
   "execution_count": 9,
   "id": "3fca2a00",
   "metadata": {},
   "outputs": [
    {
     "data": {
      "text/html": [
       "<div style=\"background-color: #EEFFEE;color:black; text-align: left;\">Query successful.</div><table class=\"tex2jax_ignore\" style=\"color:black;\"><tr><td style=\"background-color: #EEFFEE;\"></td><td style=\"background-color: #EEFFEE; text-align: left;\">Count</td><td style=\"background-color: #EEFFEE; text-align: right;\">Time</td></tr><tr style=\"background-color: #EEFFEE;\"><td style=\"vertical-align: top;\">Results</td><td style=\"text-align: right; vertical-align: top;\">1</td><td style=\"vertical-align: top;\">00:00:02.03</td></tr></table>"
      ],
      "text/plain": [
       "<IPython.core.display.HTML object>"
      ]
     },
     "metadata": {},
     "output_type": "display_data"
    },
    {
     "name": "stdout",
     "output_type": "stream",
     "text": [
      "CPU times: user 82.4 ms, sys: 4.6 ms, total: 87 ms\n",
      "Wall time: 2.04 s\n"
     ]
    }
   ],
   "source": [
    "%%time\n",
    "wb = spy.workbooks.search(\n",
    "    {\n",
    "        \"Path\" : 'pull'\n",
    "        , \"Workbook Type\": \"asddfsis\"\n",
    "        , \"Name\": \"isdfasdfne\"\n",
    "    }\n",
    "    ,content_filter = 'all'\n",
    "    ,recursive = True\n",
    "\n",
    ")\n",
    "\n",
    "\n",
    "\n",
    "search_df = wb.loc[:, ['ID']]\n",
    "search_df['Name'] = '/(^.*_FixedLimit_.*$)|(^.*_ZScoreLimit_.*$)/'\n",
    "search_df.rename(columns = {'ID':'Scoped To'}, inplace = True)\n",
    "search_df['Type'] = 'Condition'\n",
    "search_df['wb_folder_path'] = wb.loc[:, ['Path']]\n",
    "search_df['folder_id'] = wb.loc[:, ['Search Folder ID']]"
   ]
  },
  {
   "cell_type": "code",
   "execution_count": 12,
   "id": "1db7c2af",
   "metadata": {},
   "outputs": [
    {
     "name": "stdout",
     "output_type": "stream",
     "text": [
      "CPU times: user 967 ms, sys: 9.57 ms, total: 977 ms\n",
      "Wall time: 25 s\n"
     ]
    }
   ],
   "source": [
    "%%time\n",
    "conditions = spy.search(search_df, \n",
    "                        all_properties = True,\n",
    "                        order_by = ['ID'],\n",
    "                        quiet = True)\n",
    "\n"
   ]
  },
  {
   "cell_type": "code",
   "execution_count": 13,
   "id": "173e5063",
   "metadata": {},
   "outputs": [],
   "source": [
    "a = conditions.copy()\n",
    "a['Scoped To'] =  a['Scoped To'].str.upper()"
   ]
  },
  {
   "cell_type": "code",
   "execution_count": 15,
   "id": "e372f499",
   "metadata": {},
   "outputs": [
    {
     "name": "stdout",
     "output_type": "stream",
     "text": [
      "CPU times: user 5.17 ms, sys: 0 ns, total: 5.17 ms\n",
      "Wall time: 4.06 ms\n"
     ]
    }
   ],
   "source": [
    "%%time\n",
    "a['wb_folder_path'] = a['Scoped To'].map(search_df.set_index('Scoped To')['wb_folder_path'])"
   ]
  },
  {
   "cell_type": "code",
   "execution_count": 17,
   "id": "316aa72a",
   "metadata": {},
   "outputs": [
    {
     "name": "stdout",
     "output_type": "stream",
     "text": [
      "CPU times: user 10.7 ms, sys: 1.36 ms, total: 12.1 ms\n",
      "Wall time: 10.1 ms\n"
     ]
    }
   ],
   "source": [
    "%%time\n",
    "mainSigDb = pd.merge(a,search_df[['Scoped To', 'wb_folder_path']], \n",
    "                    on='Scoped To', how='left')"
   ]
  },
  {
   "cell_type": "code",
   "execution_count": 2,
   "id": "c0049f98",
   "metadata": {},
   "outputs": [],
   "source": [
    "b = search_df.copy()\n"
   ]
  },
  {
   "cell_type": "code",
   "execution_count": 3,
   "id": "7f66d5ed",
   "metadata": {},
   "outputs": [],
   "source": [
    "c=b.set_index('Scoped To')\n"
   ]
  },
  {
   "cell_type": "code",
   "execution_count": 4,
   "id": "80ee1622",
   "metadata": {},
   "outputs": [],
   "source": [
    "c['wb_folder_path']"
   ]
  },
  {
   "cell_type": "code",
   "execution_count": null,
   "id": "19c256d6",
   "metadata": {},
   "outputs": [],
   "source": []
  },
  {
   "cell_type": "code",
   "execution_count": 5,
   "id": "0944538b",
   "metadata": {},
   "outputs": [],
   "source": [
    "conditions['Scoped To'] =  conditions['Scoped To'].str.upper()\n",
    "conditions['wb_folder_path'] = conditions['Scoped To'].map(search_df.set_index('Scoped To')['wb_folder_path'])\n",
    "conditions['wb_name'] = conditions['System']\n",
    "conditions['folder_id'] = conditions['Scoped To'].map(search_df.set_index('Scoped To')['folder_id'])\n",
    "\n",
    "# conditions.to_csv('spy_search_conditions_33GOHT_Machinery.csv', index=False)\n",
    "conditions.to_csv('spydsfsdfy.csv', index=False)\n",
    "        \n",
    "                  "
   ]
  },
  {
   "cell_type": "code",
   "execution_count": 6,
   "id": "b8aa4500",
   "metadata": {},
   "outputs": [],
   "source": [
    "\n",
    "conditions = pd.read_csv('sswersrfgsdgfitions.csv', low_memory=False)\n",
    "conditions.head()"
   ]
  },
  {
   "cell_type": "code",
   "execution_count": 7,
   "id": "2ab45778",
   "metadata": {},
   "outputs": [],
   "source": [
    "%%time\n",
    "#For CC 56 pumps\n",
    "conditionsTest = conditions[['Asset ID', 'Asset', 'Name', 'Formula', 'Formula Parameters']].copy()\n",
    "conditionsTemp = conditionsTest[conditionsTest.Name.str.contains('Temperature', case=False)].reset_index(drop=True)\n",
    "conditionsVib = conditionsTest[conditionsTest.Name.str.contains('Acceleratiwwedocity', case=False)].reset_index(drop=True)\n",
    "\n",
    "conditionsVib['Pasdfth'] = 'Feeuasdeuip\\\\' + conditionsVib['Asset ID'] \\\n",
    "+'|' + conditionsVib.Name.str.split('_').str[1] + '_' + conditionsVib.Asset.str.split('_').str[1]+ '_'+ conditionsVib.Name.str.split('_').str[0]\n",
    "# conditionsVib\n",
    "\n",
    "conditionsTemp['fdrtddh'] = 'Fouwqep\\\\' + conditionsTemp['Asset ID'] \\\n",
    "+'|' + conditionsTemp.Name.str.split('_').str[0] + '_'+ conditionsTemp.Name.str.split('_').str[1] + '_' + conditionsTemp.Asset.str.split('_').str[1]\n",
    "\n",
    "\n",
    "conditionsTest = pd.concat([conditionsVib, conditionsTemp], axis=0)\n",
    "conditionsTest.reset_index(drop=True, inplace=True)\n",
    "conditionsTest = conditionsTest[['PI Path', 'Name', 'Formula', 'Formula Parameters']]\n",
    "\n",
    "conditionsTest.head(5)"
   ]
  },
  {
   "cell_type": "code",
   "execution_count": null,
   "id": "d14cfd62",
   "metadata": {},
   "outputs": [],
   "source": []
  },
  {
   "cell_type": "code",
   "execution_count": 101,
   "id": "1d0f5d8b",
   "metadata": {},
   "outputs": [],
   "source": [
    "zscore = conditionsTest[conditionsTest.Name.str.contains('ZScore')].drop(columns=['Name']).reset_index(drop=True)\n",
    "forecastFixed = conditionsTest[conditionsTest.Name.str.contains('Fixed')].drop(columns=['Name']).reset_index(drop=True)"
   ]
  },
  {
   "cell_type": "code",
   "execution_count": 103,
   "id": "4f9dafe0",
   "metadata": {},
   "outputs": [],
   "source": [
    "\n",
    "\n",
    "path = 'Pumasdfrec.xlsx'\n",
    "\n",
    "writer = pd.ExcelWriter(path, engine = 'xlsxwriter')\n",
    "forecastFixed.to_excel(writer, sheet_name = 'Forecast Fixed Limit', index=False)\n",
    "zscore.to_excel(writer, sheet_name = 'Z-Score Limit', index=False)\n",
    "writer.close()\n"
   ]
  },
  {
   "cell_type": "code",
   "execution_count": null,
   "id": "2e247ca5",
   "metadata": {},
   "outputs": [],
   "source": []
  },
  {
   "cell_type": "code",
   "execution_count": null,
   "id": "9dbae512",
   "metadata": {},
   "outputs": [],
   "source": [
    "#For PB 33 pumps\n",
    "conditions = conditions[~conditions.Unit.str.contains('01')].copy() # exclude H2 plant\n",
    "conditions"
   ]
  },
  {
   "cell_type": "code",
   "execution_count": null,
   "id": "ae6c2d81",
   "metadata": {},
   "outputs": [],
   "source": [
    "#For  pumps\n",
    "conditions = conditions[['Asset ID', 'Asset', 'Name', 'Formula', 'Formula Parameters']]\n",
    "conditions['aaswpath'] = '\\\\\\dd\\\\' + conditions['Asset ID'] \\\n",
    "+ \"\\\\\" + conditions.Asset + \"|\" + conditions.Name.str.split('_').str[0]\n",
    "conditions\n"
   ]
  },
  {
   "cell_type": "code",
   "execution_count": null,
   "id": "ae6be7e2",
   "metadata": {},
   "outputs": [],
   "source": [
    "conditions.shape"
   ]
  },
  {
   "cell_type": "code",
   "execution_count": null,
   "id": "fdbf5946",
   "metadata": {},
   "outputs": [],
   "source": [
    "af_pull = pd.read_excel('ttHT .xlsx', sheet_name='3asdfdsfent')\n",
    "af_pull = af_pull[['Parent', 'Name', 'AttributasdfeConfiing']]\n",
    "af_pull = af_pull[af_pull.Name.str.contains(pat = '((X|Y|Z)-(Velocity|Acceleration)$)|(Z Peak Demod$)', regex=True)].reset_index(drop=True)\n",
    "af_pull['apppoiath'] = \"\\\\\\\\FdfRMasd\\\\\" + af_pull.Parent + '|' + af_pull.Name\n",
    "af_pull =  af_pull[['aah', 'AtasdftriigSsdfging']]"
   ]
  },
  {
   "cell_type": "code",
   "execution_count": null,
   "id": "26335393",
   "metadata": {},
   "outputs": [],
   "source": [
    "af_pull.shape"
   ]
  },
  {
   "cell_type": "code",
   "execution_count": null,
   "id": "14022227",
   "metadata": {},
   "outputs": [],
   "source": [
    "merged_df = conditions.merge(af_pull, how='left', on='af_path')\n",
    "merged_df.shape\n",
    "merged_df"
   ]
  },
  {
   "cell_type": "code",
   "execution_count": null,
   "id": "464179a3",
   "metadata": {},
   "outputs": [],
   "source": [
    "merged_df = merged_df.rename(columns={'aath': 'asdfPath', 'Arasdfonfiing': 'SenD'})\n",
    "merged_df = merged_df[['Sensor ID', 'h', 'Formula', 'Name', 'Formula Parameters']]\n",
    "merged_df"
   ]
  },
  {
   "cell_type": "code",
   "execution_count": null,
   "id": "f4b5a2c5",
   "metadata": {},
   "outputs": [],
   "source": [
    "zscore = merged_df[merged_df.Name.str.contains('ZScore')].drop(columns=['Name']).reset_index(drop=True)\n",
    "forecastFixed = merged_df[merged_df.Name.str.contains('Fixed')].drop(columns=['Name']).reset_index(drop=True)"
   ]
  },
  {
   "cell_type": "code",
   "execution_count": null,
   "id": "0fdc6044",
   "metadata": {},
   "outputs": [],
   "source": [
    "path = 'stFixed_ZScore.xlsx'\n",
    "\n",
    "writer = pd.ExcelWriter(path, engine = 'xlsxwriter')\n",
    "forecastFixed.to_excel(writer, sheet_name = 'Fst Fiimit', index=False)\n",
    "zscore.to_excel(writer, sheet_name = 'Z-ScLimit', index=False)\n",
    "writer.close()"
   ]
  },
  {
   "cell_type": "code",
   "execution_count": null,
   "id": "9d12bbeb",
   "metadata": {},
   "outputs": [],
   "source": []
  }
 ],
 "metadata": {
  "kernelspec": {
   "display_name": "Python 3",
   "language": "python",
   "name": "python3"
  },
  "language_info": {
   "codemirror_mode": {
    "name": "ipython",
    "version": 3
   },
   "file_extension": ".py",
   "mimetype": "text/x-python",
   "name": "python",
   "nbconvert_exporter": "python",
   "pygments_lexer": "ipython3",
   "version": "3.10.6 (tags/v3.10.6:9c7b4bd, Aug  1 2022, 21:53:49) [MSC v.1932 64 bit (AMD64)]"
  },
  "vscode": {
   "interpreter": {
    "hash": "d018c0188c58e58e60ac3cb19763249ff342a612f7de0403bc8a5c09a7c73107"
   }
  }
 },
 "nbformat": 4,
 "nbformat_minor": 5
}
